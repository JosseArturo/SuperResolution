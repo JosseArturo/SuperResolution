{
  "nbformat": 4,
  "nbformat_minor": 0,
  "metadata": {
    "colab": {
      "name": "Untitled5.ipynb",
      "provenance": [],
      "include_colab_link": true
    },
    "kernelspec": {
      "name": "python3",
      "display_name": "Python 3"
    },
    "accelerator": "GPU"
  },
  "cells": [
    {
      "cell_type": "markdown",
      "metadata": {
        "id": "view-in-github",
        "colab_type": "text"
      },
      "source": [
        "<a href=\"https://colab.research.google.com/github/JosseArturo/SuperResolution/blob/master/TestSuperResolution.ipynb\" target=\"_parent\"><img src=\"https://colab.research.google.com/assets/colab-badge.svg\" alt=\"Open In Colab\"/></a>"
      ]
    },
    {
      "cell_type": "code",
      "metadata": {
        "id": "yDjQulIKcOtC",
        "colab_type": "code",
        "colab": {
          "base_uri": "https://localhost:8080/",
          "height": 54
        },
        "outputId": "ff7bbcd9-9fd0-48ec-d047-bce174dadc03"
      },
      "source": [
        "from google.colab import drive\n",
        "\n",
        "# Accessing My Google Drive\n",
        "drive.mount('/content/drive')"
      ],
      "execution_count": 38,
      "outputs": [
        {
          "output_type": "stream",
          "text": [
            "Drive already mounted at /content/drive; to attempt to forcibly remount, call drive.mount(\"/content/drive\", force_remount=True).\n"
          ],
          "name": "stdout"
        }
      ]
    },
    {
      "cell_type": "code",
      "metadata": {
        "id": "kIMBcM99OAv7",
        "colab_type": "code",
        "colab": {
          "base_uri": "https://localhost:8080/",
          "height": 102
        },
        "outputId": "d9f364a9-1481-43de-8acc-1276bfe08552"
      },
      "source": [
        "!git clone https://github.com/krasserm/super-resolution.git"
      ],
      "execution_count": 1,
      "outputs": [
        {
          "output_type": "stream",
          "text": [
            "Cloning into 'super-resolution'...\n",
            "remote: Enumerating objects: 385, done.\u001b[K\n",
            "remote: Total 385 (delta 0), reused 0 (delta 0), pack-reused 385\u001b[K\n",
            "Receiving objects: 100% (385/385), 47.38 MiB | 40.46 MiB/s, done.\n",
            "Resolving deltas: 100% (200/200), done.\n"
          ],
          "name": "stdout"
        }
      ]
    },
    {
      "cell_type": "code",
      "metadata": {
        "id": "SyA-tk6EQuTn",
        "colab_type": "code",
        "colab": {
          "base_uri": "https://localhost:8080/",
          "height": 119
        },
        "outputId": "43563fb0-08ef-4329-efe3-d0135dd83e85"
      },
      "source": [
        "%cd super-resolution\n",
        "!dir\n"
      ],
      "execution_count": 2,
      "outputs": [
        {
          "output_type": "stream",
          "text": [
            "/content/super-resolution\n",
            "1.tif\t       environment.yml\t    model\n",
            "article.ipynb  example-edsr.ipynb   README.md\n",
            "data.py        example-srgan.ipynb  train.py\n",
            "demo\t       example-wdsr.ipynb   utils.py\n",
            "docs\t       LICENSE\t\t    weights-edsr-16-x4.tar.gz\n"
          ],
          "name": "stdout"
        }
      ]
    },
    {
      "cell_type": "code",
      "metadata": {
        "id": "FSCR6ik5WYgE",
        "colab_type": "code",
        "colab": {
          "base_uri": "https://localhost:8080/",
          "height": 68
        },
        "outputId": "22610d26-d659-4a83-ce5e-f174c31808d6"
      },
      "source": [
        "!tar xvzf weights-edsr-16-x4.tar.gz"
      ],
      "execution_count": 3,
      "outputs": [
        {
          "output_type": "stream",
          "text": [
            "weights/\n",
            "weights/edsr-16-x4/\n",
            "weights/edsr-16-x4/weights.h5\n"
          ],
          "name": "stdout"
        }
      ]
    },
    {
      "cell_type": "code",
      "metadata": {
        "id": "rattWsqDd8Wg",
        "colab_type": "code",
        "colab": {
          "base_uri": "https://localhost:8080/",
          "height": 51
        },
        "outputId": "57089248-13b0-4bf9-b4ec-f22afdca6029"
      },
      "source": [
        "import cv2\n",
        "img = cv2.imread('1.tif')\n",
        "print (img.shape)\n",
        "img=img.reshape((-1,4096,4096,3))\n",
        "print (img.shape)"
      ],
      "execution_count": 19,
      "outputs": [
        {
          "output_type": "stream",
          "text": [
            "(4096, 4096, 3)\n",
            "(1, 4096, 4096, 3)\n"
          ],
          "name": "stdout"
        }
      ]
    },
    {
      "cell_type": "code",
      "metadata": {
        "id": "DCeLfytBVqu9",
        "colab_type": "code",
        "colab": {}
      },
      "source": [
        "from model import resolve_single\n",
        "from model.edsr import edsr\n",
        "\n",
        "from utils import load_image, plot_sample\n",
        "\n",
        "model = edsr(scale=4, num_res_blocks=16)\n",
        "\n",
        "model.load_weights('weights/edsr-16-x4/weights.h5')\n",
        "out = model.predict(img)\n",
        "print (out.shape)\n",
        "\n",
        "#lr = load_image('1.tif')\n",
        "#sr = resolve_single(model, lr)\n",
        "\n",
        "plot_sample(lr, out)"
      ],
      "execution_count": null,
      "outputs": []
    },
    {
      "cell_type": "code",
      "metadata": {
        "id": "n9j91h6oVvpl",
        "colab_type": "code",
        "colab": {}
      },
      "source": [
        ""
      ],
      "execution_count": null,
      "outputs": []
    }
  ]
}